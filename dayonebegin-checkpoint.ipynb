{
 "cells": [
  {
   "cell_type": "markdown",
   "id": "91665f36",
   "metadata": {},
   "source": [
    "### NEW STUFF"
   ]
  },
  {
   "cell_type": "markdown",
   "id": "9870ed44",
   "metadata": {},
   "source": [
    "# GUNJAN"
   ]
  },
  {
   "cell_type": "markdown",
   "id": "0bde923f",
   "metadata": {},
   "source": [
    "### ML"
   ]
  },
  {
   "cell_type": "code",
   "execution_count": null,
   "id": "00eb656c",
   "metadata": {},
   "outputs": [],
   "source": [
    "print(\"markdwon in cell and cell type, s+e for ML\")"
   ]
  },
  {
   "cell_type": "code",
   "execution_count": null,
   "id": "a2394426",
   "metadata": {},
   "outputs": [],
   "source": [
    "print(\"a,b key to add cell above and bellow\")"
   ]
  },
  {
   "cell_type": "code",
   "execution_count": null,
   "id": "c82bbb28",
   "metadata": {},
   "outputs": [],
   "source": [
    "print('string should be writen in inverted commas,double or single')"
   ]
  },
  {
   "cell_type": "code",
   "execution_count": null,
   "id": "28bdc0fb",
   "metadata": {},
   "outputs": [],
   "source": [
    "print(\"x,dd to del cell\")"
   ]
  },
  {
   "cell_type": "code",
   "execution_count": null,
   "id": "5722df35",
   "metadata": {},
   "outputs": [],
   "source": [
    "print(\"inserat opt above\")"
   ]
  },
  {
   "cell_type": "code",
   "execution_count": null,
   "id": "1de7322d",
   "metadata": {},
   "outputs": [],
   "source": [
    "print(\"shift + enter, run command\")"
   ]
  },
  {
   "cell_type": "code",
   "execution_count": null,
   "id": "8a3424a3",
   "metadata": {
    "scrolled": true
   },
   "outputs": [],
   "source": [
    "print('Gunjan Sarode')"
   ]
  },
  {
   "cell_type": "markdown",
   "id": "de018708",
   "metadata": {},
   "source": [
    "### data type"
   ]
  },
  {
   "cell_type": "code",
   "execution_count": null,
   "id": "1bf6832e",
   "metadata": {},
   "outputs": [],
   "source": [
    "x=10\n",
    "type(x)"
   ]
  },
  {
   "cell_type": "code",
   "execution_count": null,
   "id": "12fea7d4",
   "metadata": {},
   "outputs": [],
   "source": [
    "x=10.22\n",
    "type(x)"
   ]
  },
  {
   "cell_type": "code",
   "execution_count": null,
   "id": "702b6336",
   "metadata": {},
   "outputs": [],
   "source": [
    "name=\"data\"\n",
    "type(name)"
   ]
  },
  {
   "cell_type": "code",
   "execution_count": null,
   "id": "f5e97fb2",
   "metadata": {},
   "outputs": [],
   "source": [
    "y=True\n",
    "type(y)"
   ]
  },
  {
   "cell_type": "code",
   "execution_count": null,
   "id": "266156cc",
   "metadata": {},
   "outputs": [],
   "source": [
    "y=\"False\"\n",
    "type(y)"
   ]
  },
  {
   "cell_type": "code",
   "execution_count": null,
   "id": "54593bc7",
   "metadata": {},
   "outputs": [],
   "source": [
    "z=2-3j\n",
    "type(z)"
   ]
  },
  {
   "cell_type": "markdown",
   "id": "ebba9710",
   "metadata": {},
   "source": [
    "### rules for naming variables"
   ]
  },
  {
   "cell_type": "code",
   "execution_count": null,
   "id": "c626fb6a",
   "metadata": {},
   "outputs": [],
   "source": [
    "Participants=[\"gunjan\",\"nerd\",\"ujjwal\"] ## variable names start\n",
    "participants"
   ]
  },
  {
   "cell_type": "code",
   "execution_count": null,
   "id": "94dec780",
   "metadata": {},
   "outputs": [],
   "source": [
    "    participants # case sensitive"
   ]
  },
  {
   "cell_type": "code",
   "execution_count": null,
   "id": "ee6e3aa9",
   "metadata": {},
   "outputs": [],
   "source": [
    "print('variable name should not start with a number')"
   ]
  },
  {
   "cell_type": "code",
   "execution_count": null,
   "id": "e4a05ceb",
   "metadata": {},
   "outputs": [],
   "source": [
    "party=[\"gunjan\"]\n",
    "party"
   ]
  },
  {
   "cell_type": "markdown",
   "id": "7153e740",
   "metadata": {},
   "source": [
    "### variables"
   ]
  },
  {
   "cell_type": "code",
   "execution_count": null,
   "id": "c2e1daf6",
   "metadata": {},
   "outputs": [],
   "source": [
    "x=\"apple\",\"banana\",\"lemon\"\n",
    "type(x)"
   ]
  },
  {
   "cell_type": "code",
   "execution_count": null,
   "id": "71aa643d",
   "metadata": {},
   "outputs": [],
   "source": [
    "x=[\"apple\",\"banana\",\"lemon\" ,30]\n",
    "type(x)"
   ]
  },
  {
   "cell_type": "code",
   "execution_count": null,
   "id": "e5197462",
   "metadata": {},
   "outputs": [],
   "source": [
    "x={\"apple\",\"banana\",\"lemon\"}\n",
    "type(x)"
   ]
  },
  {
   "cell_type": "markdown",
   "id": "5db819bd",
   "metadata": {},
   "source": [
    "### lsit"
   ]
  },
  {
   "cell_type": "code",
   "execution_count": null,
   "id": "7948b382",
   "metadata": {},
   "outputs": [],
   "source": [
    "sample_list=[12,13,\"hi\",1+2j,6.7]\n",
    "sample_list"
   ]
  },
  {
   "cell_type": "code",
   "execution_count": null,
   "id": "e6d7d259",
   "metadata": {},
   "outputs": [],
   "source": [
    "sample_list[2]"
   ]
  },
  {
   "cell_type": "code",
   "execution_count": null,
   "id": "62134d4f",
   "metadata": {},
   "outputs": [],
   "source": [
    "sample_list[2]=\"gunjan\""
   ]
  },
  {
   "cell_type": "code",
   "execution_count": null,
   "id": "0d9a68dc",
   "metadata": {},
   "outputs": [],
   "source": [
    "sample_list #mutable"
   ]
  },
  {
   "cell_type": "code",
   "execution_count": null,
   "id": "1c80194e",
   "metadata": {},
   "outputs": [],
   "source": [
    "sample_list.reverse()\n",
    "sample_list"
   ]
  },
  {
   "cell_type": "code",
   "execution_count": null,
   "id": "95330228",
   "metadata": {},
   "outputs": [],
   "source": [
    "sample_list[1]=2\n",
    "sample_list[2]=100\n",
    "sample_list.sort()\n",
    "sample_list"
   ]
  },
  {
   "cell_type": "code",
   "execution_count": null,
   "id": "f126e536",
   "metadata": {},
   "outputs": [],
   "source": [
    "print('list has same indexing such as of an array,in c++ just with differert data types in one list called ')"
   ]
  },
  {
   "cell_type": "markdown",
   "id": "41102beb",
   "metadata": {},
   "source": [
    "### tuple"
   ]
  },
  {
   "cell_type": "code",
   "execution_count": null,
   "id": "6e6aeb6d",
   "metadata": {},
   "outputs": [],
   "source": [
    "sample_tuple=(12,43,56,\"hi\",1+2j,6.7)\n",
    "sample_tuple"
   ]
  },
  {
   "cell_type": "code",
   "execution_count": null,
   "id": "3e543308",
   "metadata": {},
   "outputs": [],
   "source": [
    "sample_tuple[3]\n"
   ]
  },
  {
   "cell_type": "code",
   "execution_count": null,
   "id": "cf0ea39e",
   "metadata": {},
   "outputs": [],
   "source": [
    "sample_tuple[0]"
   ]
  },
  {
   "cell_type": "code",
   "execution_count": 6,
   "id": "0f3b5701",
   "metadata": {},
   "outputs": [
    {
     "ename": "IndexError",
     "evalue": "tuple index out of range",
     "output_type": "error",
     "traceback": [
      "\u001b[1;31m---------------------------------------------------------------------------\u001b[0m",
      "\u001b[1;31mIndexError\u001b[0m                                Traceback (most recent call last)",
      "\u001b[1;32m~\\AppData\\Local\\Temp/ipykernel_5172/802060474.py\u001b[0m in \u001b[0;36m<module>\u001b[1;34m\u001b[0m\n\u001b[1;32m----> 1\u001b[1;33m \u001b[0msample_tuple\u001b[0m\u001b[1;33m[\u001b[0m\u001b[1;36m10\u001b[0m\u001b[1;33m]\u001b[0m\u001b[1;33m\u001b[0m\u001b[1;33m\u001b[0m\u001b[0m\n\u001b[0m",
      "\u001b[1;31mIndexError\u001b[0m: tuple index out of range"
     ]
    }
   ],
   "source": [
    "sample_tuple[10]"
   ]
  },
  {
   "cell_type": "code",
   "execution_count": 7,
   "id": "d9c7b7e7",
   "metadata": {},
   "outputs": [
    {
     "ename": "TypeError",
     "evalue": "'tuple' object does not support item assignment",
     "output_type": "error",
     "traceback": [
      "\u001b[1;31m---------------------------------------------------------------------------\u001b[0m",
      "\u001b[1;31mTypeError\u001b[0m                                 Traceback (most recent call last)",
      "\u001b[1;32m~\\AppData\\Local\\Temp/ipykernel_5172/2738844736.py\u001b[0m in \u001b[0;36m<module>\u001b[1;34m\u001b[0m\n\u001b[1;32m----> 1\u001b[1;33m \u001b[0msample_tuple\u001b[0m\u001b[1;33m[\u001b[0m\u001b[1;36m2\u001b[0m\u001b[1;33m]\u001b[0m\u001b[1;33m=\u001b[0m\u001b[1;36m3.5\u001b[0m\u001b[1;33m\u001b[0m\u001b[1;33m\u001b[0m\u001b[0m\n\u001b[0m",
      "\u001b[1;31mTypeError\u001b[0m: 'tuple' object does not support item assignment"
     ]
    }
   ],
   "source": [
    "sample_tuple[2]=3.5"
   ]
  },
  {
   "cell_type": "code",
   "execution_count": 8,
   "id": "c1a0c138",
   "metadata": {},
   "outputs": [
    {
     "ename": "IndexError",
     "evalue": "tuple index out of range",
     "output_type": "error",
     "traceback": [
      "\u001b[1;31m---------------------------------------------------------------------------\u001b[0m",
      "\u001b[1;31mIndexError\u001b[0m                                Traceback (most recent call last)",
      "\u001b[1;32m~\\AppData\\Local\\Temp/ipykernel_5172/3068378632.py\u001b[0m in \u001b[0;36m<module>\u001b[1;34m\u001b[0m\n\u001b[1;32m----> 1\u001b[1;33m \u001b[0msample_tuple\u001b[0m\u001b[1;33m[\u001b[0m\u001b[1;36m6\u001b[0m\u001b[1;33m]\u001b[0m\u001b[1;33m\u001b[0m\u001b[1;33m\u001b[0m\u001b[0m\n\u001b[0m",
      "\u001b[1;31mIndexError\u001b[0m: tuple index out of range"
     ]
    }
   ],
   "source": [
    "sample_tuple[6]"
   ]
  },
  {
   "cell_type": "code",
   "execution_count": 9,
   "id": "e00e6a6e",
   "metadata": {},
   "outputs": [
    {
     "data": {
      "text/plain": [
       "(12, 43, 56, 'hi', (1+2j), 6.7)"
      ]
     },
     "execution_count": 9,
     "metadata": {},
     "output_type": "execute_result"
    }
   ],
   "source": [
    "sample_tuple"
   ]
  },
  {
   "cell_type": "code",
   "execution_count": 10,
   "id": "6acd6015",
   "metadata": {},
   "outputs": [
    {
     "ename": "AttributeError",
     "evalue": "'tuple' object has no attribute 'reverse'",
     "output_type": "error",
     "traceback": [
      "\u001b[1;31m---------------------------------------------------------------------------\u001b[0m",
      "\u001b[1;31mAttributeError\u001b[0m                            Traceback (most recent call last)",
      "\u001b[1;32m~\\AppData\\Local\\Temp/ipykernel_5172/1804581357.py\u001b[0m in \u001b[0;36m<module>\u001b[1;34m\u001b[0m\n\u001b[1;32m----> 1\u001b[1;33m \u001b[0msample_tuple\u001b[0m\u001b[1;33m.\u001b[0m\u001b[0mreverse\u001b[0m\u001b[1;33m(\u001b[0m\u001b[1;33m)\u001b[0m\u001b[1;33m\u001b[0m\u001b[1;33m\u001b[0m\u001b[0m\n\u001b[0m\u001b[0;32m      2\u001b[0m \u001b[0msample_tuple\u001b[0m\u001b[1;33m\u001b[0m\u001b[1;33m\u001b[0m\u001b[0m\n",
      "\u001b[1;31mAttributeError\u001b[0m: 'tuple' object has no attribute 'reverse'"
     ]
    }
   ],
   "source": [
    "sample_tuple.reverse()\n",
    "sample_tuple"
   ]
  },
  {
   "cell_type": "code",
   "execution_count": null,
   "id": "596ba953",
   "metadata": {},
   "outputs": [],
   "source": []
  }
 ],
 "metadata": {
  "kernelspec": {
   "display_name": "Python 3 (ipykernel)",
   "language": "python",
   "name": "python3"
  },
  "language_info": {
   "codemirror_mode": {
    "name": "ipython",
    "version": 3
   },
   "file_extension": ".py",
   "mimetype": "text/x-python",
   "name": "python",
   "nbconvert_exporter": "python",
   "pygments_lexer": "ipython3",
   "version": "3.9.7"
  }
 },
 "nbformat": 4,
 "nbformat_minor": 5
}
